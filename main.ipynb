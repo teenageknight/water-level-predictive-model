{
 "cells": [
  {
   "attachments": {},
   "cell_type": "markdown",
   "id": "d343b0f6",
   "metadata": {},
   "source": [
    "## Predictive Model for Water Level of the Chattooga River"
   ]
  },
  {
   "attachments": {},
   "cell_type": "markdown",
   "id": "b53e95dd",
   "metadata": {},
   "source": [
    "TODO: ADD Image of the model here"
   ]
  },
  {
   "attachments": {},
   "cell_type": "markdown",
   "id": "c7777573",
   "metadata": {},
   "source": [
    "As a whitewater kayaker, I take many trips to the Chattooga River. The water level is determined by the amount of rainfall in the area. It is important to know the water level of the river before making the trip, because if the water level is too high or too low, the river is not safe to take trips out. The goal of this project is to create a predictive model for the water level of the Chattooga River. This model will be used to predict the water level of the river for the next 24 hours. This will allow for an exploration of how predictive models work, using research to solve a problem, and provide a useful tool for me."
   ]
  },
  {
   "attachments": {},
   "cell_type": "markdown",
   "id": "5f879f35",
   "metadata": {},
   "source": [
    "## Outline"
   ]
  },
  {
   "attachments": {},
   "cell_type": "markdown",
   "id": "66fc6ad3",
   "metadata": {},
   "source": [
    "## Data Collection"
   ]
  },
  {
   "attachments": {},
   "cell_type": "markdown",
   "id": "e6fda320",
   "metadata": {},
   "source": [
    "Data collection consited of two parts, the water level and the percipitation data. "
   ]
  },
  {
   "attachments": {},
   "cell_type": "markdown",
   "id": "97e74dcb",
   "metadata": {},
   "source": [
    "#### Water Level"
   ]
  },
  {
   "attachments": {},
   "cell_type": "markdown",
   "id": "79fe15c9",
   "metadata": {},
   "source": [
    "The first part was collecting data from the USGS site. The USGS website contained data only back to 2007, which is a limiting factor, but it is the best data available for the Chattooga River. The data would specfically be take from one site, Chattooga River Near Clayton, GA, since this is the one most often used by us kayakers. Data is in the form of a text file, listing data about water levels every 15 min."
   ]
  },
  {
   "attachments": {},
   "cell_type": "markdown",
   "id": "35b29be5",
   "metadata": {},
   "source": [
    "#### Weather Data"
   ]
  },
  {
   "attachments": {},
   "cell_type": "markdown",
   "id": "6225762c",
   "metadata": {},
   "source": [
    "The second part of the data is the weather data. Rabun county was used as it is the location of the gauge we are using for the Chattooga River. The data was in the form of a csv, and contained data from 2007 to 2023, and contains data about weather pulled every day. "
   ]
  },
  {
   "cell_type": "code",
   "execution_count": 1,
   "id": "2c787a5c",
   "metadata": {},
   "outputs": [
    {
     "name": "stdout",
     "output_type": "stream",
     "text": [
      "Model\n"
     ]
    }
   ],
   "source": [
    "print('Model')"
   ]
  }
 ],
 "metadata": {
  "kernelspec": {
   "display_name": "Python 3",
   "language": "python",
   "name": "python3"
  },
  "language_info": {
   "codemirror_mode": {
    "name": "ipython",
    "version": 3
   },
   "file_extension": ".py",
   "mimetype": "text/x-python",
   "name": "python",
   "nbconvert_exporter": "python",
   "pygments_lexer": "ipython3",
   "version": "3.9.6"
  }
 },
 "nbformat": 4,
 "nbformat_minor": 5
}
